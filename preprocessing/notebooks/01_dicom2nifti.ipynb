{
 "cells": [
  {
   "cell_type": "code",
   "execution_count": 1,
   "metadata": {},
   "outputs": [],
   "source": [
    "import os\n",
    "from pathlib import Path\n",
    "from burdenko_glioma.nifti import dicom_to_nifti"
   ]
  },
  {
   "cell_type": "code",
   "execution_count": null,
   "metadata": {},
   "outputs": [],
   "source": [
    "root = '/home/perseusf/Documents/burdenko_dataset/manifest-1679410600140/Burdenko-GBM-Progression'\n",
    "target_folder = '/home/perseusf/Documents/burdenko_dataset/ouput_nifti/'\n",
    "\n",
    "for patient_folder in sorted(os.listdir(root)):\n",
    "    # Define the save path for NIfTI files for the current patient\n",
    "    save_path = os.path.join(target_folder, patient_folder, 'image')\n",
    "    \n",
    "    if not os.path.exists(save_path):\n",
    "        os.makedirs(save_path)\n",
    "    \n",
    "    # Iterate through subfolders within the patient folder\n",
    "    for subfolder in os.listdir(Path(root) / patient_folder):\n",
    "        # Identify the baseline visit folder for radiotherapy planning\n",
    "        if 'Radiotherapy planning' in subfolder:\n",
    "            baseline_visit = subfolder\n",
    "    \n",
    "    source_folder = Path(root) / patient_folder / baseline_visit\n",
    "    rt_folders = ['RTSTRUCT', 'RTPLAN', 'RTDOSE']\n",
    "    \n",
    "    for subfolder in source_folder.glob('*'):\n",
    "        if not any([stop in subfolder.name for stop in rt_folders]):\n",
    "            dicom_to_nifti(subfolder, save_path, name=subfolder.name)\n"
   ]
  }
 ],
 "metadata": {
  "kernelspec": {
   "display_name": "burdenko_glioma",
   "language": "python",
   "name": "python3"
  },
  "language_info": {
   "codemirror_mode": {
    "name": "ipython",
    "version": 3
   },
   "file_extension": ".py",
   "mimetype": "text/x-python",
   "name": "python",
   "nbconvert_exporter": "python",
   "pygments_lexer": "ipython3",
   "version": "3.11.4"
  },
  "orig_nbformat": 4,
  "vscode": {
   "interpreter": {
    "hash": "2bda04b09276540c48619dd8ffec9f33f9d3e151be502946220fc99b5687b471"
   }
  }
 },
 "nbformat": 4,
 "nbformat_minor": 2
}
