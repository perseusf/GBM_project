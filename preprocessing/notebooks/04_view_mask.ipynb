{
 "cells": [
  {
   "cell_type": "code",
   "execution_count": 1,
   "metadata": {},
   "outputs": [],
   "source": [
    "import os\n",
    "import numpy as np\n",
    "import matplotlib.pyplot as plt\n",
    "import nibabel as nib\n",
    "from matplotlib.widgets import Slider\n",
    "\n",
    "%matplotlib qt5\n"
   ]
  },
  {
   "cell_type": "code",
   "execution_count": 2,
   "metadata": {},
   "outputs": [],
   "source": [
    "path_to_image = '/home/perseusf/Documents/burdenko_dataset/ouput_nifti/Burdenko-GBM-017/warped/warped_MR0T2FLAIR.nii'\n",
    "filename_image = os.path.basename(path_to_image)\n",
    "images = nib.load(path_to_image)\n",
    "path_to_mask = '/home/perseusf/Documents/burdenko_dataset/ouput_nifti/Burdenko-GBM-017/rt/mask_GTV.nii.gz'\n",
    "filename_mask = os.path.basename(path_to_mask)\n",
    "mask = nib.load(path_to_mask)"
   ]
  },
  {
   "cell_type": "code",
   "execution_count": 3,
   "metadata": {},
   "outputs": [
    {
     "name": "stdout",
     "output_type": "stream",
     "text": [
      "image shape:  (512, 512, 219)\n",
      "mask shape:  (512, 512, 219)\n"
     ]
    }
   ],
   "source": [
    "print('image shape: ', images.get_fdata().shape)\n",
    "print('mask shape: ', mask.get_fdata().shape)"
   ]
  },
  {
   "cell_type": "code",
   "execution_count": 4,
   "metadata": {},
   "outputs": [],
   "source": [
    "init_slice_num = mask.get_fdata().shape[2] // 2\n",
    "slice_num = init_slice_num\n",
    "\n",
    "fig, ax = plt.subplots(1,3, figsize=(20,5))\n",
    "ax[0].imshow(images.get_fdata()[:,:,slice_num], cmap=\"gray\")\n",
    "ax[0].set_title(f'Image ({filename_image})')\n",
    "\n",
    "ax[1].imshow(images.get_fdata()[:,:,slice_num], cmap=\"gray\")\n",
    "ax[1].imshow(np.fliplr(mask.get_fdata()[:,:,slice_num]), cmap=\"jet\", alpha=0.2)\n",
    "ax[1].set_title(f'Combined')\n",
    "\n",
    "ax[2].imshow(np.fliplr(mask.get_fdata()[:,:,slice_num]), cmap=\"gray\")\n",
    "ax[2].set_title(f'Label ({filename_mask})')\n",
    "fig.subplots_adjust(hspace=0.3)\n",
    "\n",
    "fig.subplots_adjust(left=0.25, bottom=0.25)\n",
    "\n",
    "axfreq = fig.add_axes([0.25, 0.1, 0.65, 0.03])\n",
    "slice_slider = Slider(\n",
    "    ax=axfreq,\n",
    "    label='Slice number',\n",
    "    valmin=0,\n",
    "    valmax=int(mask.get_fdata().shape[2]),\n",
    "    valinit=init_slice_num,\n",
    "    valstep=np.arange(0, int(mask.get_fdata().shape[2]), 1)\n",
    ")\n",
    "\n",
    "def update(val):\n",
    "    ax[0].imshow(images.get_fdata()[:,:,slice_slider.val], cmap=\"gray\")\n",
    "    ax[0].set_title(f'Image ({filename_image})')\n",
    "\n",
    "    ax[1].imshow(images.get_fdata()[:,:,slice_slider.val], cmap=\"gray\")\n",
    "    ax[1].imshow(np.fliplr(mask.get_fdata()[:,:,slice_slider.val]), cmap=\"jet\", alpha=0.2)\n",
    "    ax[1].set_title(f'Combined')\n",
    "\n",
    "    ax[2].imshow(np.fliplr(mask.get_fdata()[:,:,slice_slider.val]), cmap=\"gray\")\n",
    "    ax[2].set_title(f'Label ({filename_mask})')\n",
    "    fig.subplots_adjust(hspace=0.3)\n",
    "    fig.canvas.draw_idle()\n",
    "\n",
    "slice_slider.on_changed(update)\n",
    "\n",
    "plt.show()\n"
   ]
  }
 ],
 "metadata": {
  "kernelspec": {
   "display_name": "burdenko_glioma",
   "language": "python",
   "name": "python3"
  },
  "language_info": {
   "codemirror_mode": {
    "name": "ipython",
    "version": 3
   },
   "file_extension": ".py",
   "mimetype": "text/x-python",
   "name": "python",
   "nbconvert_exporter": "python",
   "pygments_lexer": "ipython3",
   "version": "3.11.4"
  },
  "orig_nbformat": 4,
  "vscode": {
   "interpreter": {
    "hash": "2bda04b09276540c48619dd8ffec9f33f9d3e151be502946220fc99b5687b471"
   }
  }
 },
 "nbformat": 4,
 "nbformat_minor": 2
}
