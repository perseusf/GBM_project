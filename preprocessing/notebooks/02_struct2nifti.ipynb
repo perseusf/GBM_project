{
 "cells": [
  {
   "cell_type": "code",
   "execution_count": 1,
   "metadata": {},
   "outputs": [
    {
     "name": "stdout",
     "output_type": "stream",
     "text": [
      "\u001b[1m\n",
      "Please cite:\u001b[0m\n",
      "Thomas Phil, Thomas Albrecht, Skylar Gay, & Mathis Ersted Rasmussen. (2023). Sikerdebaard/dcmrtstruct2nii: dcmrtstruct2nii v5 (Version v5). Zenodo. https://doi.org/10.5281/zenodo.4037864\n",
      "\u001b[0m\n"
     ]
    }
   ],
   "source": [
    "import os\n",
    "import numpy as np\n",
    "import matplotlib.pyplot as plt\n",
    "import nibabel as nib\n",
    "import os\n",
    "from pathlib import Path\n",
    "from burdenko_glioma.nifti import dicom_to_nifti\n",
    "from dcmrtstruct2nii import dcmrtstruct2nii, list_rt_structs\n",
    "%matplotlib inline"
   ]
  },
  {
   "cell_type": "code",
   "execution_count": null,
   "metadata": {},
   "outputs": [],
   "source": [
    "root = '/home/perseusf/Documents/burdenko_dataset/manifest-1679410600140/Burdenko-GBM-Progression'\n",
    "target_folder = '/home/perseusf/Documents/burdenko_dataset/ouput_nifti/'\n",
    "\n",
    "for patient_folder in sorted(os.listdir(root)):\n",
    "    save_path = os.path.join(target_folder, patient_folder, 'rt')\n",
    "    \n",
    "    if not os.path.exists(save_path):\n",
    "        os.makedirs(save_path)\n",
    "    \n",
    "    for subfolder in os.listdir(Path(root) / patient_folder):\n",
    "        # Identify the baseline visit folder for radiotherapy planning\n",
    "        if 'Radiotherapy planning' in subfolder:\n",
    "            baseline_visit = subfolder\n",
    "            \n",
    "            # Find the CT scan associated with the radiotherapy planning\n",
    "            for fname in os.listdir(Path(root) / patient_folder / subfolder):\n",
    "                if \"CT00CT\" in fname:\n",
    "                    ct_path = Path(root) / patient_folder / subfolder / fname\n",
    "    \n",
    "    source_folder = Path(root) / patient_folder / baseline_visit\n",
    "    \n",
    "    rt_folders = ['RTSTRUCT']\n",
    "    \n",
    "    for subfolder in source_folder.glob('*'):\n",
    "        if any([stop in subfolder.name for stop in rt_folders]):\n",
    "            dcmrtstruct2nii(subfolder / '1-1.dcm', ct_path, save_path)\n"
   ]
  }
 ],
 "metadata": {
  "kernelspec": {
   "display_name": "burdenko_glioma",
   "language": "python",
   "name": "python3"
  },
  "language_info": {
   "codemirror_mode": {
    "name": "ipython",
    "version": 3
   },
   "file_extension": ".py",
   "mimetype": "text/x-python",
   "name": "python",
   "nbconvert_exporter": "python",
   "pygments_lexer": "ipython3",
   "version": "3.11.4"
  },
  "orig_nbformat": 4,
  "vscode": {
   "interpreter": {
    "hash": "2bda04b09276540c48619dd8ffec9f33f9d3e151be502946220fc99b5687b471"
   }
  }
 },
 "nbformat": 4,
 "nbformat_minor": 2
}
